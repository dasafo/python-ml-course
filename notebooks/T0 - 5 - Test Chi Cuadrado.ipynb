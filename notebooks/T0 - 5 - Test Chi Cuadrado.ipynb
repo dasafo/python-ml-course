{
 "cells": [
  {
   "cell_type": "markdown",
   "metadata": {},
   "source": [
    "# Test de la Chi Cuadrado ($\\chi^2$):\n",
    "\n",
    "Se trata de un test de la estadística que se usa para comparar los resultados obervados ($O_i$) con los esperados ($E_i$), asumiendo que los datos siguen una determinada hipótesis, como suponer que nuestra hipótesis nula sigue una determinada distribución (normal, binomial,...) y en función de esta hipótesis calcular cuáles serían los valores esperados."
   ]
  },
  {
   "cell_type": "markdown",
   "metadata": {},
   "source": [
    "<img src=\"img/test_Chi_1.jpg\" width=\"700\">"
   ]
  },
  {
   "cell_type": "markdown",
   "metadata": {},
   "source": [
    "Normalmente la $\\chi^2$ se suele utilizar para 3 cosas diferentes según tengamos una varible o dos.\n",
    "\n",
    "**-** Para una variable:\n",
    "\n",
    "* **Bondad de ajuste:** Comprobar si los datos vienen de una fuente que sigue una distribución conocida. Básicamente se observa si los datos que tenemos tienen cierta tendencia a un extremo u otro comparados con los esperados. **df** son los grados de libertad.\n",
    "\n",
    "**-** Para dos variables:\n",
    "\n",
    "* **Test de homogeneidad:**\n",
    "* **Test de Independencia:** Nos ayuda a demostrar una posible relación o no entre un parámetro de entrada y otro de salida. La hipotesis nula sería que se admite independencia entre esas dos variables y se calcula los valores esperados que tendríamos en caso de independencia. También se usa para comprobar si los datos son *demasiado buenos* para ser verdad. **df** son los grados de libertad."
   ]
  },
  {
   "cell_type": "markdown",
   "metadata": {},
   "source": [
    "### Ejemplo para comprobar si una moneda está trucada o no:"
   ]
  },
  {
   "cell_type": "markdown",
   "metadata": {},
   "source": [
    "<img src=\"img/test_Chi_2.jpg\" width=\"700\">"
   ]
  },
  {
   "cell_type": "markdown",
   "metadata": {},
   "source": [
    "* Tenemos dos categorias (cara y cruz) por lo tanto los grados de libertad sería 1.\n",
    "* Si miramos las tablas con un grado de significancia de $\\alpha=0.05$ es de $\\chi_{\\alpha}^{2}=3.841$, que sería nuestro estadístico de contraste límite."
   ]
  },
  {
   "cell_type": "markdown",
   "metadata": {},
   "source": [
    "<img src=\"img/test_Chi_3.jpg\" width=\"700\">"
   ]
  },
  {
   "cell_type": "code",
   "execution_count": null,
   "metadata": {},
   "outputs": [],
   "source": []
  }
 ],
 "metadata": {
  "kernelspec": {
   "display_name": "Python 3",
   "language": "python",
   "name": "python3"
  },
  "language_info": {
   "codemirror_mode": {
    "name": "ipython",
    "version": 3
   },
   "file_extension": ".py",
   "mimetype": "text/x-python",
   "name": "python",
   "nbconvert_exporter": "python",
   "pygments_lexer": "ipython3",
   "version": "3.7.6"
  }
 },
 "nbformat": 4,
 "nbformat_minor": 2
}
