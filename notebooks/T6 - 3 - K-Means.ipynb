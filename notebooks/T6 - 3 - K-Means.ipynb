{
 "cells": [
  {
   "cell_type": "markdown",
   "metadata": {},
   "source": [
    "# El método de k-means\n",
    "* Dividimos los datos en k-grupos. Este numero $k$ con este método tiene que ser conocido a priori.\n",
    "* El método necesita evaluar, calcular o definir los baricentros o centroides de estos grupos.\n",
    "* La salida del método será una array conteniendo el número de cluster en el cual pertenece cada una de las observaciones."
   ]
  },
  {
   "cell_type": "markdown",
   "metadata": {},
   "source": [
    "<img src=\"img/k_means_2.jpg\" width=\"600\">"
   ]
  },
  {
   "cell_type": "markdown",
   "metadata": {},
   "source": [
    "<img src=\"img/k_means_1.jpg\" width=\"600\">"
   ]
  },
  {
   "cell_type": "code",
   "execution_count": 9,
   "metadata": {},
   "outputs": [],
   "source": [
    "import numpy as np"
   ]
  },
  {
   "cell_type": "code",
   "execution_count": 10,
   "metadata": {},
   "outputs": [
    {
     "data": {
      "text/plain": [
       "array([[0.4770843 , 0.07024765, 0.36114349],\n",
       "       [0.73597616, 0.68135794, 0.56884364],\n",
       "       [0.68520142, 0.63446815, 0.03015353],\n",
       "       [0.12432937, 0.37195324, 0.43409473],\n",
       "       [0.31913879, 0.15330478, 0.48626601],\n",
       "       [0.34418638, 0.5583269 , 0.61938991],\n",
       "       [0.70618946, 0.85324916, 0.43579425],\n",
       "       [0.9736918 , 0.05759155, 0.56906456],\n",
       "       [0.14135248, 0.99451766, 0.80412098],\n",
       "       [0.3273606 , 0.37004479, 0.9195578 ],\n",
       "       [0.96006421, 0.02617724, 0.94032579],\n",
       "       [0.51598586, 0.11814987, 0.3319801 ],\n",
       "       [0.41393451, 0.32937041, 0.78463239],\n",
       "       [0.12872809, 0.54254031, 0.11822565],\n",
       "       [0.46343429, 0.92432451, 0.74084168],\n",
       "       [0.93388381, 0.70918542, 0.25364325],\n",
       "       [0.69456943, 0.25762334, 0.64322211],\n",
       "       [0.88695436, 0.95179838, 0.74125959],\n",
       "       [0.0471691 , 0.7608066 , 0.69840017],\n",
       "       [0.66470546, 0.82571011, 0.9770759 ],\n",
       "       [0.11162393, 0.49036463, 0.71928337],\n",
       "       [0.44058746, 0.71388756, 0.65790183],\n",
       "       [0.76999193, 0.14772171, 0.36754693],\n",
       "       [0.236922  , 0.91357763, 0.06239048],\n",
       "       [0.60130216, 0.19049088, 0.52904953],\n",
       "       [0.33557444, 0.26244123, 0.32030395],\n",
       "       [0.34483833, 0.71785812, 0.52981889],\n",
       "       [0.15443256, 0.49829269, 0.02765238],\n",
       "       [0.88026042, 0.59455311, 0.8609831 ],\n",
       "       [0.14369997, 0.71447888, 0.9284535 ]])"
      ]
     },
     "execution_count": 10,
     "metadata": {},
     "output_type": "execute_result"
    }
   ],
   "source": [
    "data = np.random.random(90).reshape(30,3)\n",
    "data"
   ]
  },
  {
   "cell_type": "markdown",
   "metadata": {},
   "source": [
    "**Vamos a elegir 2 centroides al azar. Que serán los 2 baricentros originales de los 2 clusters que generaremos**"
   ]
  },
  {
   "cell_type": "code",
   "execution_count": 11,
   "metadata": {},
   "outputs": [
    {
     "data": {
      "text/plain": [
       "array([[0.76999193, 0.14772171, 0.36754693],\n",
       "       [0.12432937, 0.37195324, 0.43409473]])"
      ]
     },
     "execution_count": 11,
     "metadata": {},
     "output_type": "execute_result"
    }
   ],
   "source": [
    "c1 = np.random.choice(range(len(data))) \n",
    "c2 = np.random.choice(range(len(data)))\n",
    "clust_centers = np.vstack([data[c1], data[c2]]) #con vstack los colocamos uno debajo del otro\n",
    "clust_centers"
   ]
  },
  {
   "cell_type": "markdown",
   "metadata": {},
   "source": [
    "### **Primera forma:** "
   ]
  },
  {
   "cell_type": "code",
   "execution_count": 12,
   "metadata": {},
   "outputs": [],
   "source": [
    "from scipy.cluster.vq import vq"
   ]
  },
  {
   "cell_type": "code",
   "execution_count": 13,
   "metadata": {},
   "outputs": [
    {
     "data": {
      "text/plain": [
       "(array([0, 0, 0, 1, 1, 1, 0, 0, 1, 1, 0, 0, 1, 1, 1, 0, 0, 0, 1, 1, 1, 1,\n",
       "        0, 1, 0, 1, 1, 1, 0, 1], dtype=int32),\n",
       " array([0.30304804, 0.57135371, 0.59828575, 0.        , 0.29745537,\n",
       "        0.3426464 , 0.71168633, 0.30037717, 0.72442782, 0.52621261,\n",
       "        0.61561039, 0.25818322, 0.45668489, 0.35901612, 0.7170773 ,\n",
       "        0.59588262, 0.30620862, 0.89436047, 0.47646407, 0.89035395,\n",
       "        0.30905541, 0.5167474 , 0.        , 0.6664819 , 0.23742057,\n",
       "        0.2637531 , 0.42123331, 0.42668869, 0.67475676, 0.60173884]))"
      ]
     },
     "execution_count": 13,
     "metadata": {},
     "output_type": "execute_result"
    }
   ],
   "source": [
    "clusters = vq(data, clust_centers) #le indicamos los datos y los centros par generar los clusters\n",
    "clusters"
   ]
  },
  {
   "cell_type": "markdown",
   "metadata": {},
   "source": [
    "* El primer Array nos da la informacion de a qué cluster pertenece cada una de las observaciones.\n",
    "* El segundo array nos da la distancia de cada una de las 30 observaciones hasta el baricentro, según el cluster en el cual se encuentra."
   ]
  },
  {
   "cell_type": "code",
   "execution_count": 14,
   "metadata": {},
   "outputs": [
    {
     "data": {
      "text/plain": [
       "array([0, 0, 0, 1, 1, 1, 0, 0, 1, 1, 0, 0, 1, 1, 1, 0, 0, 0, 1, 1, 1, 1,\n",
       "       0, 1, 0, 1, 1, 1, 0, 1], dtype=int32)"
      ]
     },
     "execution_count": 14,
     "metadata": {},
     "output_type": "execute_result"
    }
   ],
   "source": [
    "labels = clusters[0]\n",
    "labels"
   ]
  },
  {
   "cell_type": "code",
   "execution_count": 15,
   "metadata": {},
   "outputs": [],
   "source": [
    "import chart_studio.plotly as py\n",
    "import plotly.graph_objs as go\n",
    "\n",
    "import plotly.offline as ply"
   ]
  },
  {
   "cell_type": "code",
   "execution_count": 16,
   "metadata": {},
   "outputs": [
    {
     "data": {
      "text/plain": [
       "'Clusters.html'"
      ]
     },
     "execution_count": 16,
     "metadata": {},
     "output_type": "execute_result"
    }
   ],
   "source": [
    "x = []\n",
    "y = []\n",
    "z = []\n",
    "x2 = []\n",
    "y2 = []\n",
    "z2 = []\n",
    "\n",
    "for i in range(0, len(labels)):\n",
    "    if(labels[i] == 0): #si está en el cluster 0, metemos sus valores(que son 3, ver mas arriba) en la lista x[], y[] e z[]\n",
    "        x.append(data[i,0])\n",
    "        y.append(data[i,1])\n",
    "        z.append(data[i,2])\n",
    "        \n",
    "    else: #sino (si pertenecen al cluster 1) metemos sus 3 valores en la lista x2[], y2[] y z2[]\n",
    "        x2.append(data[i,0])\n",
    "        y2.append(data[i,1])\n",
    "        z2.append(data[i,2])\n",
    "\n",
    "cluster1 = go.Scatter3d( #definimos el cluster 1(el 0) para representar en 3D\n",
    "    x=x,\n",
    "    y=y,\n",
    "    z=z,\n",
    "    mode='markers',\n",
    "    marker=dict(\n",
    "        size=12,\n",
    "        line=dict(\n",
    "            color='rgba(217, 217, 217, 0.14)',\n",
    "            width=0.5\n",
    "        ),\n",
    "        opacity=0.9\n",
    "    ),\n",
    "    name=\"Cluster 0\"\n",
    ")\n",
    "\n",
    "\n",
    "cluster2 = go.Scatter3d( #definimos el cluster 2(el 1) para representar en 3D\n",
    "    x=x2,\n",
    "    y=y2,\n",
    "    z=z2,\n",
    "    mode='markers',\n",
    "    marker=dict(\n",
    "        color='rgb(127, 127, 127)',\n",
    "        size=12,\n",
    "        symbol='circle',\n",
    "        line=dict(\n",
    "            color='rgb(204, 204, 204)',\n",
    "            width=1\n",
    "        ),\n",
    "        opacity=0.9\n",
    "    ),\n",
    "    name=\"Cluster 1\"\n",
    ")\n",
    "data2 = [cluster1, cluster2]\n",
    "layout = go.Layout(\n",
    "    margin=dict(\n",
    "        l=0,\n",
    "        r=0,\n",
    "        b=0,\n",
    "        t=30\n",
    "    )\n",
    ")\n",
    "\n",
    "fig = go.Figure(data=data2, layout=layout)\n",
    "ply.plot(fig, filename='Clusters.html')\n"
   ]
  },
  {
   "cell_type": "markdown",
   "metadata": {},
   "source": [
    "### **Segunda forma:**"
   ]
  },
  {
   "cell_type": "code",
   "execution_count": 17,
   "metadata": {},
   "outputs": [],
   "source": [
    "from scipy.cluster.vq import kmeans"
   ]
  },
  {
   "cell_type": "code",
   "execution_count": 18,
   "metadata": {},
   "outputs": [
    {
     "data": {
      "text/plain": [
       "(array([[0.75547349, 0.40712419, 0.51023153],\n",
       "        [0.27894222, 0.59657647, 0.57814174]]),\n",
       " 0.39724274004165316)"
      ]
     },
     "execution_count": 18,
     "metadata": {},
     "output_type": "execute_result"
    }
   ],
   "source": [
    "kmeans(data, clust_centers) #nos da la info de los baricentros, "
   ]
  },
  {
   "cell_type": "markdown",
   "metadata": {},
   "source": [
    "* El tercer numero del array que da kmeans es el valor de la suma de los cuadrados de los errores normalizado (ver video teoria anterior). De cada uno de los puntos resta la distancia de dichos puntos al baricentro, las eleva al cuadrado, las suma todas ellas, y las divide la suma total de los resultados, dividida entre la suma de los cuadrados en cada punto al baricentro global del sistema(de absolutamente todos los puntos del data)."
   ]
  },
  {
   "cell_type": "code",
   "execution_count": 19,
   "metadata": {},
   "outputs": [
    {
     "data": {
      "text/plain": [
       "(array([[0.51100206, 0.26145522, 0.42454723],\n",
       "        [0.46307151, 0.73587759, 0.6573599 ]]),\n",
       " 0.3791606786540721)"
      ]
     },
     "execution_count": 19,
     "metadata": {},
     "output_type": "execute_result"
    }
   ],
   "source": [
    "kmeans(data, 2) #también podemos darle solo el numero de clusters que queremos, 2 en este caso, en vez de los centroides"
   ]
  },
  {
   "cell_type": "code",
   "execution_count": null,
   "metadata": {},
   "outputs": [],
   "source": []
  },
  {
   "cell_type": "code",
   "execution_count": null,
   "metadata": {},
   "outputs": [],
   "source": []
  }
 ],
 "metadata": {
  "kernelspec": {
   "display_name": "Python 3",
   "language": "python",
   "name": "python3"
  },
  "language_info": {
   "codemirror_mode": {
    "name": "ipython",
    "version": 3
   },
   "file_extension": ".py",
   "mimetype": "text/x-python",
   "name": "python",
   "nbconvert_exporter": "python",
   "pygments_lexer": "ipython3",
   "version": "3.7.6"
  }
 },
 "nbformat": 4,
 "nbformat_minor": 2
}
