{
 "cells": [
  {
   "cell_type": "markdown",
   "metadata": {},
   "source": [
    "# El método de k-means"
   ]
  },
  {
   "cell_type": "code",
   "execution_count": 1,
   "metadata": {},
   "outputs": [],
   "source": [
    "import numpy as np"
   ]
  },
  {
   "cell_type": "code",
   "execution_count": 10,
   "metadata": {},
   "outputs": [
    {
     "data": {
      "text/plain": [
       "array([[0.00791829, 0.58915332, 0.89087416],\n",
       "       [0.34180403, 0.38500652, 0.56133012],\n",
       "       [0.26407482, 0.0810057 , 0.54789802],\n",
       "       [0.46060101, 0.65555716, 0.75262886],\n",
       "       [0.01935071, 0.67948175, 0.68543854],\n",
       "       [0.88059875, 0.15655558, 0.87040765],\n",
       "       [0.06098595, 0.47203242, 0.83919132],\n",
       "       [0.10530724, 0.94752185, 0.27228777],\n",
       "       [0.32666616, 0.13339496, 0.81235633],\n",
       "       [0.82978049, 0.65200579, 0.05951191],\n",
       "       [0.70829938, 0.99463352, 0.87470032],\n",
       "       [0.69562905, 0.33672325, 0.64531778],\n",
       "       [0.4599799 , 0.18978278, 0.85618298],\n",
       "       [0.39284559, 0.21730533, 0.33025359],\n",
       "       [0.26533464, 0.38225062, 0.19859643],\n",
       "       [0.24541375, 0.52672944, 0.04133565],\n",
       "       [0.08475023, 0.6247758 , 0.49530102],\n",
       "       [0.92139762, 0.81104404, 0.22257675],\n",
       "       [0.43905912, 0.05802759, 0.44397185],\n",
       "       [0.90899046, 0.28377429, 0.49357306],\n",
       "       [0.43233398, 0.39859353, 0.212619  ],\n",
       "       [0.88663903, 0.93831135, 0.47281389],\n",
       "       [0.21932524, 0.17825519, 0.56618158],\n",
       "       [0.77498519, 0.87397683, 0.86248689],\n",
       "       [0.17309476, 0.17710317, 0.6002047 ],\n",
       "       [0.2127872 , 0.52454235, 0.43132406],\n",
       "       [0.18516114, 0.91871251, 0.12910717],\n",
       "       [0.03653757, 0.48058979, 0.33798373],\n",
       "       [0.80473955, 0.48263146, 0.86525964],\n",
       "       [0.12553874, 0.33912744, 0.90394973]])"
      ]
     },
     "execution_count": 10,
     "metadata": {},
     "output_type": "execute_result"
    }
   ],
   "source": [
    "data = np.random.random(90).reshape(30,3)\n",
    "data"
   ]
  },
  {
   "cell_type": "markdown",
   "metadata": {},
   "source": [
    "**Vamos a elegir 2 centroides al azar. Que serán los 2 baricentros originales de los 2 clusters que generaremos**"
   ]
  },
  {
   "cell_type": "code",
   "execution_count": 19,
   "metadata": {},
   "outputs": [
    {
     "data": {
      "text/plain": [
       "array([[0.26407482, 0.0810057 , 0.54789802],\n",
       "       [0.39284559, 0.21730533, 0.33025359]])"
      ]
     },
     "execution_count": 19,
     "metadata": {},
     "output_type": "execute_result"
    }
   ],
   "source": [
    "c1 = np.random.choice(range(len(data))) \n",
    "c2 = np.random.choice(range(len(data)))\n",
    "clust_centers = np.vstack([data[c1], data[c2]]) #con vstack los colocamos uno debajo del otro\n",
    "clust_centers"
   ]
  },
  {
   "cell_type": "markdown",
   "metadata": {},
   "source": [
    "### **Primera forma:** "
   ]
  },
  {
   "cell_type": "code",
   "execution_count": 4,
   "metadata": {},
   "outputs": [],
   "source": [
    "from scipy.cluster.vq import vq"
   ]
  },
  {
   "cell_type": "code",
   "execution_count": 13,
   "metadata": {},
   "outputs": [
    {
     "data": {
      "text/plain": [
       "(array([1, 1, 1, 0, 1, 1, 1, 0, 1, 0, 0, 1, 1, 1, 1, 1, 1, 0, 1, 1, 1, 0,\n",
       "        1, 0, 1, 1, 0, 1, 0, 1], dtype=int32),\n",
       " array([0.81712828, 0.36075855, 0.20481247, 0.58288485, 0.78782396,\n",
       "        0.62170129, 0.68595755, 0.80670622, 0.39245324, 0.50598645,\n",
       "        0.44327183, 0.42899835, 0.43326104, 0.20108935, 0.44216497,\n",
       "        0.64753058, 0.6703529 , 0.2828847 , 0.        , 0.52369582,\n",
       "        0.41176999, 0.        , 0.27869853, 0.41042729, 0.33064292,\n",
       "        0.51864724, 0.78140236, 0.5931407 , 0.6069311 , 0.6236119 ]))"
      ]
     },
     "execution_count": 13,
     "metadata": {},
     "output_type": "execute_result"
    }
   ],
   "source": [
    "clusters = vq(data, clust_centers) #le indicamos los datos y los centros par generar los clusters\n",
    "clusters"
   ]
  },
  {
   "cell_type": "markdown",
   "metadata": {},
   "source": [
    "* El primer Array nos da la informacion de a qué cluster pertenece cada una de las observaciones.\n",
    "* El segundo array nos da la distancia de cada una de las 30 observaciones hasta el baricentro, según el cluster en el cual se encuentra."
   ]
  },
  {
   "cell_type": "code",
   "execution_count": 6,
   "metadata": {},
   "outputs": [
    {
     "data": {
      "text/plain": [
       "array([0, 0, 0, 0, 0, 0, 1, 1, 0, 1, 0, 1, 0, 1, 1, 0, 1, 1, 1, 0, 1, 1,\n",
       "       1, 0, 1, 1, 0, 0, 0, 0], dtype=int32)"
      ]
     },
     "execution_count": 6,
     "metadata": {},
     "output_type": "execute_result"
    }
   ],
   "source": [
    "labels = clusters[0]\n",
    "labels"
   ]
  },
  {
   "cell_type": "code",
   "execution_count": 14,
   "metadata": {},
   "outputs": [],
   "source": [
    "import chart_studio.plotly as py\n",
    "import plotly.graph_objs as go\n",
    "\n",
    "import plotly.offline as ply"
   ]
  },
  {
   "cell_type": "code",
   "execution_count": 20,
   "metadata": {},
   "outputs": [
    {
     "name": "stderr",
     "output_type": "stream",
     "text": [
      "/home/david/anaconda3/lib/python3.7/site-packages/plotly/offline/offline.py:562: UserWarning:\n",
      "\n",
      "Your filename `Clusters` didn't end with .html. Adding .html to the end of your file.\n",
      "\n"
     ]
    },
    {
     "data": {
      "text/plain": [
       "'Clusters.html'"
      ]
     },
     "execution_count": 20,
     "metadata": {},
     "output_type": "execute_result"
    }
   ],
   "source": [
    "x = []\n",
    "y = []\n",
    "z = []\n",
    "x2 = []\n",
    "y2 = []\n",
    "z2 = []\n",
    "\n",
    "for i in range(0, len(labels)):\n",
    "    if(labels[i] == 0):\n",
    "        x.append(data[i,0])\n",
    "        y.append(data[i,1])\n",
    "        z.append(data[i,2])\n",
    "        \n",
    "    else:\n",
    "        x2.append(data[i,0])\n",
    "        y2.append(data[i,1])\n",
    "        z2.append(data[i,2])\n",
    "\n",
    "cluster1 = go.Scatter3d(\n",
    "    x=x,\n",
    "    y=y,\n",
    "    z=z,\n",
    "    mode='markers',\n",
    "    marker=dict(\n",
    "        size=12,\n",
    "        line=dict(\n",
    "            color='rgba(217, 217, 217, 0.14)',\n",
    "            width=0.5\n",
    "        ),\n",
    "        opacity=0.9\n",
    "    ),\n",
    "    name=\"Cluster 0\"\n",
    ")\n",
    "\n",
    "\n",
    "cluster2 = go.Scatter3d(\n",
    "    x=x2,\n",
    "    y=y2,\n",
    "    z=z2,\n",
    "    mode='markers',\n",
    "    marker=dict(\n",
    "        color='rgb(127, 127, 127)',\n",
    "        size=12,\n",
    "        symbol='circle',\n",
    "        line=dict(\n",
    "            color='rgb(204, 204, 204)',\n",
    "            width=1\n",
    "        ),\n",
    "        opacity=0.9\n",
    "    ),\n",
    "    name=\"Cluster 1\"\n",
    ")\n",
    "data2 = [cluster1, cluster2]\n",
    "layout = go.Layout(\n",
    "    margin=dict(\n",
    "        l=0,\n",
    "        r=0,\n",
    "        b=0,\n",
    "        t=30\n",
    "    )\n",
    ")\n",
    "\n",
    "fig = go.Figure(data=data2, layout=layout)\n",
    "ply.plot(fig, filename='Clusters')\n"
   ]
  },
  {
   "cell_type": "markdown",
   "metadata": {},
   "source": [
    "### **Segunda forma:**"
   ]
  },
  {
   "cell_type": "code",
   "execution_count": 16,
   "metadata": {},
   "outputs": [],
   "source": [
    "from scipy.cluster.vq import kmeans"
   ]
  },
  {
   "cell_type": "code",
   "execution_count": 24,
   "metadata": {},
   "outputs": [
    {
     "data": {
      "text/plain": [
       "(array([[0.25356775, 0.33343472, 0.61008505],\n",
       "        [0.61225214, 0.67847808, 0.45417067]]), 0.3953435194154305)"
      ]
     },
     "execution_count": 24,
     "metadata": {},
     "output_type": "execute_result"
    }
   ],
   "source": [
    "kmeans(data, clust_centers) #nos da la info de los baricentros, "
   ]
  },
  {
   "cell_type": "markdown",
   "metadata": {},
   "source": [
    "* El tercer numero del array que da kmeans es el valor de la suma de los cuadrados de los errores normalizado (ver video teoria anterior). De cada uno de los puntos resta la distancia de dichos puntos al baricentro, las eleva al cuadrado, las suma todas ellas, y las divide la suma total de los resultados, dividida entre la suma de los cuadrados en cada punto al baricentro global del sistema(de absolutamente todos los puntos del data)."
   ]
  },
  {
   "cell_type": "code",
   "execution_count": 25,
   "metadata": {},
   "outputs": [
    {
     "data": {
      "text/plain": [
       "(array([[0.21991345, 0.4151696 , 0.50781939],\n",
       "        [0.78716605, 0.61852133, 0.61192767]]), 0.3779717903498595)"
      ]
     },
     "execution_count": 25,
     "metadata": {},
     "output_type": "execute_result"
    }
   ],
   "source": [
    "kmeans(data, 2) #también podemos darle solo el numero de clusters que queremos, 2 en este caso, en vez de los centroides"
   ]
  },
  {
   "cell_type": "code",
   "execution_count": null,
   "metadata": {},
   "outputs": [],
   "source": []
  },
  {
   "cell_type": "code",
   "execution_count": null,
   "metadata": {},
   "outputs": [],
   "source": []
  }
 ],
 "metadata": {
  "kernelspec": {
   "display_name": "Python 3",
   "language": "python",
   "name": "python3"
  },
  "language_info": {
   "codemirror_mode": {
    "name": "ipython",
    "version": 3
   },
   "file_extension": ".py",
   "mimetype": "text/x-python",
   "name": "python",
   "nbconvert_exporter": "python",
   "pygments_lexer": "ipython3",
   "version": "3.7.3"
  }
 },
 "nbformat": 4,
 "nbformat_minor": 2
}
