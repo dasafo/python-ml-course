{
 "cells": [
  {
   "cell_type": "markdown",
   "metadata": {},
   "source": [
    "# El método de k-means\n",
    "* Dividimos los datos en k-grupos. Este numero $k$ con este método tiene que ser conocido a priori.\n",
    "* El método necesita evaluar, calcular o definir los baricentros o centroides de estos grupos.\n",
    "* La salida del método será una array conteniendo el número de cluster en el cual pertenece cada una de las observaciones."
   ]
  },
  {
   "cell_type": "markdown",
   "metadata": {},
   "source": [
    "<img src=\"img/k_means_2.jpg\" width=\"600\">"
   ]
  },
  {
   "cell_type": "markdown",
   "metadata": {},
   "source": [
    "<img src=\"img/k_means_1.jpg\" width=\"600\">"
   ]
  },
  {
   "cell_type": "code",
   "execution_count": 1,
   "metadata": {},
   "outputs": [],
   "source": [
    "import numpy as np"
   ]
  },
  {
   "cell_type": "code",
   "execution_count": 2,
   "metadata": {},
   "outputs": [
    {
     "data": {
      "text/plain": [
       "array([[0.38708941, 0.43295174, 0.77858823],\n",
       "       [0.82374958, 0.42249082, 0.45184114],\n",
       "       [0.10471256, 0.63626742, 0.36031047],\n",
       "       [0.24368108, 0.64615919, 0.25460057],\n",
       "       [0.09571688, 0.50205849, 0.13787742],\n",
       "       [0.24456893, 0.32690233, 0.6255395 ],\n",
       "       [0.42812743, 0.56017293, 0.96613535],\n",
       "       [0.04739221, 0.91491892, 0.97686114],\n",
       "       [0.72544428, 0.36503234, 0.72325251],\n",
       "       [0.531745  , 0.55328831, 0.87198025],\n",
       "       [0.50189464, 0.53979583, 0.04481757],\n",
       "       [0.60663208, 0.14106192, 0.73797895],\n",
       "       [0.42567353, 0.03908514, 0.36666282],\n",
       "       [0.16841705, 0.60308111, 0.82442681],\n",
       "       [0.62290825, 0.63875449, 0.95603758],\n",
       "       [0.4453313 , 0.92854017, 0.02726882],\n",
       "       [0.27617803, 0.76943439, 0.36284503],\n",
       "       [0.19582355, 0.053838  , 0.85223254],\n",
       "       [0.49252666, 0.73712765, 0.06902168],\n",
       "       [0.23925427, 0.38162446, 0.24898646],\n",
       "       [0.73591425, 0.19453764, 0.80330255],\n",
       "       [0.88553488, 0.41396684, 0.85143733],\n",
       "       [0.38076297, 0.87526025, 0.30506178],\n",
       "       [0.54740445, 0.24517597, 0.76310993],\n",
       "       [0.60699686, 0.21148563, 0.66164921],\n",
       "       [0.18510666, 0.4549043 , 0.13069732],\n",
       "       [0.37661327, 0.0451813 , 0.31024399],\n",
       "       [0.11563709, 0.00172274, 0.25849175],\n",
       "       [0.04601244, 0.01945043, 0.75296897],\n",
       "       [0.40043162, 0.79260324, 0.13312212]])"
      ]
     },
     "execution_count": 2,
     "metadata": {},
     "output_type": "execute_result"
    }
   ],
   "source": [
    "data = np.random.random(90).reshape(30,3)\n",
    "data"
   ]
  },
  {
   "cell_type": "markdown",
   "metadata": {},
   "source": [
    "**Vamos a elegir 2 centroides al azar. Que serán los 2 baricentros originales de los 2 clusters que generaremos**"
   ]
  },
  {
   "cell_type": "code",
   "execution_count": 3,
   "metadata": {},
   "outputs": [
    {
     "data": {
      "text/plain": [
       "array([[0.37661327, 0.0451813 , 0.31024399],\n",
       "       [0.24368108, 0.64615919, 0.25460057]])"
      ]
     },
     "execution_count": 3,
     "metadata": {},
     "output_type": "execute_result"
    }
   ],
   "source": [
    "c1 = np.random.choice(range(len(data))) \n",
    "c2 = np.random.choice(range(len(data)))\n",
    "clust_centers = np.vstack([data[c1], data[c2]]) #con vstack los colocamos uno debajo del otro\n",
    "clust_centers"
   ]
  },
  {
   "cell_type": "markdown",
   "metadata": {},
   "source": [
    "### **Primera forma:** "
   ]
  },
  {
   "cell_type": "code",
   "execution_count": 4,
   "metadata": {},
   "outputs": [],
   "source": [
    "from scipy.cluster.vq import vq"
   ]
  },
  {
   "cell_type": "code",
   "execution_count": 5,
   "metadata": {},
   "outputs": [
    {
     "data": {
      "text/plain": [
       "(array([1, 0, 1, 1, 1, 0, 1, 1, 0, 1, 1, 0, 0, 1, 1, 1, 1, 0, 1, 1, 0, 0,\n",
       "        1, 0, 0, 1, 0, 0, 0, 1], dtype=int32),\n",
       " array([0.58359784, 0.60194942, 0.17488476, 0.        , 0.23723977,\n",
       "        0.44296016, 0.74006475, 0.79524929, 0.62814313, 0.68757798,\n",
       "        0.34927971, 0.49503428, 0.07501438, 0.57638732, 0.79742206,\n",
       "        0.41482715, 0.16724141, 0.5714118 , 0.32347938, 0.26463132,\n",
       "        0.6281013 , 0.82939387, 0.2717077 , 0.52369366, 0.45190636,\n",
       "        0.23529006, 0.        , 0.26958395, 0.55314048, 0.24652303]))"
      ]
     },
     "execution_count": 5,
     "metadata": {},
     "output_type": "execute_result"
    }
   ],
   "source": [
    "clusters = vq(data, clust_centers) #le indicamos los datos y los centros par generar los clusters\n",
    "clusters"
   ]
  },
  {
   "cell_type": "markdown",
   "metadata": {},
   "source": [
    "* El primer Array nos da la informacion de a qué cluster pertenece cada una de las observaciones.\n",
    "* El segundo array nos da la distancia de cada una de las 30 observaciones hasta el baricentro, según el cluster en el cual se encuentra."
   ]
  },
  {
   "cell_type": "code",
   "execution_count": 6,
   "metadata": {},
   "outputs": [
    {
     "data": {
      "text/plain": [
       "array([1, 0, 1, 1, 1, 0, 1, 1, 0, 1, 1, 0, 0, 1, 1, 1, 1, 0, 1, 1, 0, 0,\n",
       "       1, 0, 0, 1, 0, 0, 0, 1], dtype=int32)"
      ]
     },
     "execution_count": 6,
     "metadata": {},
     "output_type": "execute_result"
    }
   ],
   "source": [
    "labels = clusters[0]\n",
    "labels"
   ]
  },
  {
   "cell_type": "code",
   "execution_count": 7,
   "metadata": {},
   "outputs": [],
   "source": [
    "import chart_studio.plotly as py\n",
    "import plotly.graph_objs as go\n",
    "\n",
    "import plotly.offline as ply"
   ]
  },
  {
   "cell_type": "code",
   "execution_count": 8,
   "metadata": {},
   "outputs": [
    {
     "data": {
      "text/plain": [
       "'Clusters.html'"
      ]
     },
     "execution_count": 8,
     "metadata": {},
     "output_type": "execute_result"
    }
   ],
   "source": [
    "x = []\n",
    "y = []\n",
    "z = []\n",
    "x2 = []\n",
    "y2 = []\n",
    "z2 = []\n",
    "\n",
    "for i in range(0, len(labels)):\n",
    "    if(labels[i] == 0): #si está en el cluster 0, metemos sus valores(que son 3, ver mas arriba) en la lista x[], y[] e z[]\n",
    "        x.append(data[i,0])\n",
    "        y.append(data[i,1])\n",
    "        z.append(data[i,2])\n",
    "        \n",
    "    else: #sino (si pertenecen al cluster 1) metemos sus 3 valores en la lista x2[], y2[] y z2[]\n",
    "        x2.append(data[i,0])\n",
    "        y2.append(data[i,1])\n",
    "        z2.append(data[i,2])\n",
    "\n",
    "cluster1 = go.Scatter3d( #definimos el cluster 1(el 0) para representar en 3D\n",
    "    x=x,\n",
    "    y=y,\n",
    "    z=z,\n",
    "    mode='markers',\n",
    "    marker=dict(\n",
    "        size=12,\n",
    "        line=dict(\n",
    "            color='rgba(217, 217, 217, 0.14)',\n",
    "            width=0.5\n",
    "        ),\n",
    "        opacity=0.9\n",
    "    ),\n",
    "    name=\"Cluster 0\"\n",
    ")\n",
    "\n",
    "\n",
    "cluster2 = go.Scatter3d( #definimos el cluster 2(el 1) para representar en 3D\n",
    "    x=x2,\n",
    "    y=y2,\n",
    "    z=z2,\n",
    "    mode='markers',\n",
    "    marker=dict(\n",
    "        color='rgb(127, 127, 127)',\n",
    "        size=12,\n",
    "        symbol='circle',\n",
    "        line=dict(\n",
    "            color='rgb(204, 204, 204)',\n",
    "            width=1\n",
    "        ),\n",
    "        opacity=0.9\n",
    "    ),\n",
    "    name=\"Cluster 1\"\n",
    ")\n",
    "data2 = [cluster1, cluster2]\n",
    "layout = go.Layout(\n",
    "    margin=dict(\n",
    "        l=0,\n",
    "        r=0,\n",
    "        b=0,\n",
    "        t=30\n",
    "    )\n",
    ")\n",
    "\n",
    "fig = go.Figure(data=data2, layout=layout)\n",
    "ply.plot(fig, filename='Clusters.html')\n"
   ]
  },
  {
   "cell_type": "markdown",
   "metadata": {},
   "source": [
    "### **Segunda forma:**"
   ]
  },
  {
   "cell_type": "code",
   "execution_count": 16,
   "metadata": {},
   "outputs": [],
   "source": [
    "from scipy.cluster.vq import kmeans"
   ]
  },
  {
   "cell_type": "code",
   "execution_count": 24,
   "metadata": {},
   "outputs": [
    {
     "data": {
      "text/plain": [
       "(array([[0.25356775, 0.33343472, 0.61008505],\n",
       "        [0.61225214, 0.67847808, 0.45417067]]), 0.3953435194154305)"
      ]
     },
     "execution_count": 24,
     "metadata": {},
     "output_type": "execute_result"
    }
   ],
   "source": [
    "kmeans(data, clust_centers) #nos da la info de los baricentros, "
   ]
  },
  {
   "cell_type": "markdown",
   "metadata": {},
   "source": [
    "* El tercer numero del array que da kmeans es el valor de la suma de los cuadrados de los errores normalizado (ver video teoria anterior). De cada uno de los puntos resta la distancia de dichos puntos al baricentro, las eleva al cuadrado, las suma todas ellas, y las divide la suma total de los resultados, dividida entre la suma de los cuadrados en cada punto al baricentro global del sistema(de absolutamente todos los puntos del data)."
   ]
  },
  {
   "cell_type": "code",
   "execution_count": 25,
   "metadata": {},
   "outputs": [
    {
     "data": {
      "text/plain": [
       "(array([[0.21991345, 0.4151696 , 0.50781939],\n",
       "        [0.78716605, 0.61852133, 0.61192767]]), 0.3779717903498595)"
      ]
     },
     "execution_count": 25,
     "metadata": {},
     "output_type": "execute_result"
    }
   ],
   "source": [
    "kmeans(data, 2) #también podemos darle solo el numero de clusters que queremos, 2 en este caso, en vez de los centroides"
   ]
  },
  {
   "cell_type": "code",
   "execution_count": null,
   "metadata": {},
   "outputs": [],
   "source": []
  },
  {
   "cell_type": "code",
   "execution_count": null,
   "metadata": {},
   "outputs": [],
   "source": []
  }
 ],
 "metadata": {
  "kernelspec": {
   "display_name": "Python 3",
   "language": "python",
   "name": "python3"
  },
  "language_info": {
   "codemirror_mode": {
    "name": "ipython",
    "version": 3
   },
   "file_extension": ".py",
   "mimetype": "text/x-python",
   "name": "python",
   "nbconvert_exporter": "python",
   "pygments_lexer": "ipython3",
   "version": "3.7.3"
  }
 },
 "nbformat": 4,
 "nbformat_minor": 2
}
