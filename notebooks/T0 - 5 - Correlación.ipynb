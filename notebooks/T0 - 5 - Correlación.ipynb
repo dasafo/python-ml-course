{
 "cells": [
  {
   "cell_type": "markdown",
   "metadata": {},
   "source": [
    "# Correlación\n",
    "*(ver también **T3 - 1 - Statistics - Correlación** para ver un ejemplo práctico de correlación)*\n",
    "\n",
    "Para buscar la relación entre dos variables."
   ]
  },
  {
   "cell_type": "markdown",
   "metadata": {},
   "source": [
    "<img src=\"img/correlacion_1.png\" width=\"900\">"
   ]
  },
  {
   "cell_type": "markdown",
   "metadata": {},
   "source": [
    "<img src=\"img/correlacion_2.png\" width=\"700\">"
   ]
  },
  {
   "cell_type": "markdown",
   "metadata": {},
   "source": [
    "* Si la correlación es **positiva** su relación será proporcional, si una aumenta la otra también lo hace y viceversa.\n",
    "* Si la correlación es **negativa**, ambas variables serán inversamente proporcionales, si una crece, la otra decrece y viceversa."
   ]
  },
  {
   "cell_type": "markdown",
   "metadata": {},
   "source": [
    "Hay que tener en cuenta que aunque dos variables estén correlacionadas no implica que una sea la causa de la otra, puede haber más variables involucradas en el proceso, o directamente la correlación puede deberse a la casualidad."
   ]
  },
  {
   "cell_type": "code",
   "execution_count": null,
   "metadata": {},
   "outputs": [],
   "source": []
  }
 ],
 "metadata": {
  "kernelspec": {
   "display_name": "Python 3",
   "language": "python",
   "name": "python3"
  },
  "language_info": {
   "codemirror_mode": {
    "name": "ipython",
    "version": 3
   },
   "file_extension": ".py",
   "mimetype": "text/x-python",
   "name": "python",
   "nbconvert_exporter": "python",
   "pygments_lexer": "ipython3",
   "version": "3.7.3"
  }
 },
 "nbformat": 4,
 "nbformat_minor": 2
}
