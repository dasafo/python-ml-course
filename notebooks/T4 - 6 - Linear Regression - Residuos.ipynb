{
 "cells": [
  {
   "cell_type": "markdown",
   "metadata": {},
   "source": [
    "# Tratamiento de Resiudos\n",
    "\n",
    "* Después de aplicar un modelo lineal tenemos que saber si éste trabaja bien con la información.\n",
    "* **Los residuos** son los errores que cometemos en la regresión."
   ]
  },
  {
   "cell_type": "markdown",
   "metadata": {},
   "source": [
    "<img src=\"img/residuos_1.jpg\" width=\"500\">"
   ]
  },
  {
   "cell_type": "markdown",
   "metadata": {},
   "source": [
    "* Tenemos un conjunto de datos dividido en variables independientes $(x_{i1}, x_{i2}, ..., x_{ik})$ y una variable dependiente $y_i$ la cual quiero predecir en función del resto.\n",
    "\n",
    "* Para ello vamos a estudiar el comportamiento de los residuos."
   ]
  },
  {
   "cell_type": "markdown",
   "metadata": {},
   "source": [
    "<img src=\"img/otros_apuntes_lineales_1.jpg\" width=\"700\">"
   ]
  },
  {
   "cell_type": "markdown",
   "metadata": {},
   "source": [
    "## 1- Gráfico Residuos vs Valores Ajustados\n",
    "\n",
    "* En el gráfico gráfico se estudia si los residuos tienen un lineal o no."
   ]
  },
  {
   "cell_type": "markdown",
   "metadata": {},
   "source": [
    "<img src=\"img/otros_apuntes_lineales_2.jpg\" width=\"700\">"
   ]
  },
  {
   "cell_type": "markdown",
   "metadata": {},
   "source": [
    "<img src=\"img/residuos_2.jpg\" width=\"700\">"
   ]
  },
  {
   "cell_type": "markdown",
   "metadata": {},
   "source": [
    "* **Case 1:** No sigue ningún patrón, por lo tanto podemos estar seguros que sigue una relación lineal.\n",
    "* **Case 2:** Si existe una relación no-lineal entre las variables de entrada y la de salida. Ya que los residuos se están quedándo parte de la información."
   ]
  },
  {
   "cell_type": "markdown",
   "metadata": {},
   "source": [
    "## 2- Gráfico cuantil-cuantil\n",
    "\n",
    "* Intenta representar si los errores se distribuyen según una normal standard o no. Ya que es una de las hipotesis necesarias para poder aplicar una regresión normal. \n",
    "\n",
    "(más info [AQUÍ](http://onlinestatbook.com/2/advanced_graphs/q-q_plots.html))"
   ]
  },
  {
   "cell_type": "markdown",
   "metadata": {},
   "source": [
    "<img src=\"img/residuos_3.jpg\" width=\"700\">"
   ]
  },
  {
   "cell_type": "markdown",
   "metadata": {},
   "source": [
    "* **Case 1:** Si los puntos se acumulan en la diagonal tenemos buenas razones para pensar que los errores sigue una distribución normal.\n",
    "* **Case 2:** Si vemos que los puntos se alejan de la diagonal, entonces los valores no segirán una distribución normal."
   ]
  },
  {
   "cell_type": "markdown",
   "metadata": {},
   "source": [
    "## 3- Gráfico Scale - Location\n",
    "\n",
    "* Nos habla de la escala y la localización de los residuos, también se le conoce como **gráfico de dispersión**.\n",
    "* Nos explican los rangos que toman los predictores. Es parecida la *gráfica 1* pero en este caso los errores los tenemos standarizados y con raíz cuadrada.\n",
    "* Con este gráfico chequemos que si los datos tienen la misma varianza (homocedásticos)."
   ]
  },
  {
   "cell_type": "markdown",
   "metadata": {},
   "source": [
    "<img src=\"img/otros_apuntes_lineales_3.jpg\" width=\"700\">"
   ]
  },
  {
   "cell_type": "markdown",
   "metadata": {},
   "source": [
    "<img src=\"img/residuos_4.jpg\" width=\"700\">"
   ]
  },
  {
   "cell_type": "markdown",
   "metadata": {},
   "source": [
    "* **Case 1:** Si todas las varianzas de los errores cometidos no siguen un patrón definido, es un buen indicativo que la asunción de que todos los datos tienen la misma varianza es buena, y por lo tanto la regresión es una técnica para modelar los datos.\n",
    "\n",
    "* **Case 2:** En este caso los residuos tienden a ensancharse, lo que indica que la asunción de que todos los residuos de los valores ajustados partían de la misma varianza (homocedásticos) es falsa."
   ]
  },
  {
   "cell_type": "markdown",
   "metadata": {},
   "source": [
    "## 4- Gráfico Residuos vs Apalancamiento\n",
    "\n",
    "* Nos ayuda a encontrar posibles sujetos influyentes (en los outliers por ejemplo) dentro de nuestro modelo. \n",
    "* No necesariamente cualquier outlier será influenciador de nuestro modelo lineal, pero podrán existir datos con valores tan extremos que pueden influir a la hora de realizar nuestra recta de regresión. En la mayoría de los casos los outliers no influyen"
   ]
  },
  {
   "cell_type": "markdown",
   "metadata": {},
   "source": [
    "<img src=\"img/residuos_5.jpg\" width=\"700\">"
   ]
  },
  {
   "cell_type": "markdown",
   "metadata": {},
   "source": [
    "En la zona superior o inferior derecha es donde localizamos los casos extremos de inlfuencia que alterar nuestro modelo. Estos datos se visualizan fuera de una linea de puntos conocida como **la distancia de Cook**.\n",
    "\n",
    "* **Case 1:** No hay ningún punto que influencie sobre el resto.\n",
    "* **Case 2:** Cuando se encuentran fuera de esta línea discontinua esos puntos están más alejados de la puntuación normal y por lo tanto son casos que influyen en el resultado final de la regresión lineal. Podríamos hacer otra ve el modelo lineal sin estos 'influencers'"
   ]
  },
  {
   "cell_type": "markdown",
   "metadata": {},
   "source": [
    "<img src=\"img/otros_apuntes_lineales_4.jpg\" width=\"700\">"
   ]
  },
  {
   "cell_type": "code",
   "execution_count": null,
   "metadata": {},
   "outputs": [],
   "source": []
  }
 ],
 "metadata": {
  "kernelspec": {
   "display_name": "Python 3",
   "language": "python",
   "name": "python3"
  },
  "language_info": {
   "codemirror_mode": {
    "name": "ipython",
    "version": 3
   },
   "file_extension": ".py",
   "mimetype": "text/x-python",
   "name": "python",
   "nbconvert_exporter": "python",
   "pygments_lexer": "ipython3",
   "version": "3.7.6"
  }
 },
 "nbformat": 4,
 "nbformat_minor": 2
}
