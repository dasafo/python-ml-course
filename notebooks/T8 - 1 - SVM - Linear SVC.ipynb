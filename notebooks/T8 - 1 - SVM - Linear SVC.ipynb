{
 "cells": [
  {
   "cell_type": "markdown",
   "metadata": {},
   "source": [
    "# Support Vector Machines (SVM)"
   ]
  },
  {
   "cell_type": "markdown",
   "metadata": {},
   "source": [
    "<img src=\"img/SVM_1.jpg\" width=\"600\">"
   ]
  },
  {
   "cell_type": "markdown",
   "metadata": {},
   "source": [
    "* Tomamos los puntos como vectores en un espacio *p-dimensional*, donde *p* es el número de variables predictoras del dataset. Y el objetivo es separarlos en un espacio o hiperplano $p-1$ dimensional.\n",
    "* En el ejemplo de arriba tenemos puntos en *2-D* (p=2), entonces queremo buscar un hiperplano de *1 dimensión* (una recta). En este ejemplo el hiperplano más optimo será la recta amarilla *(casi no se ve en el dibujo)*.\n",
    "* Si el hiperplano existiera (no tiene porqué) se le conoce como **el hiperplano maximizador del márgen**.\n",
    "* En el caso de la clasificación lineal, la más sencilla en SVM, se le denomina **el clasificador de maximización de los márgenes** o lo que es lo mismo **el perceptrón de estabilidad óptima**."
   ]
  },
  {
   "cell_type": "markdown",
   "metadata": {},
   "source": [
    "Matemáticamente para el caso en dónde exista una separabilidad lineal, cualquier punto *x* que esté en el hiperplano separador satisface lo siguiente:"
   ]
  },
  {
   "cell_type": "markdown",
   "metadata": {},
   "source": [
    "<img src=\"img/SVM_2.jpg\" width=\"600\">"
   ]
  },
  {
   "cell_type": "markdown",
   "metadata": {},
   "source": [
    "* **w** es el vector normal (perpendicular) al hiperplano.\n",
    "* **b** es una constante que nos describe cómo ese plano está desplazado con respecto al origen.\n",
    "* $d(0,H)$ es la distancia del hiperplano al origen.\n",
    "* $d_+$ y $d_-$ nos indica la anchura del canal (o pasillo) que nos indica el márgen de separación."
   ]
  },
  {
   "cell_type": "markdown",
   "metadata": {},
   "source": [
    "Condiciones para la separación de la región superior e inferior:"
   ]
  },
  {
   "cell_type": "markdown",
   "metadata": {},
   "source": [
    "<img src=\"img/SVM_3.jpg\" width=\"600\">"
   ]
  },
  {
   "cell_type": "markdown",
   "metadata": {},
   "source": [
    "* **M** es el margen del corredor.\n",
    "* **a** es un valor que no se conoce. Lo que hace es establecer la escala del vector *b*. Para empezar la podemos igualar a $a=1$ para maximizar ese márgen o corredor, para tener los elementos más alejados posibles de forma lineal."
   ]
  },
  {
   "cell_type": "markdown",
   "metadata": {},
   "source": [
    "El objetivo en definitiva para un problema que tenga *n* puntos en el dataset para entrenar es:"
   ]
  },
  {
   "cell_type": "markdown",
   "metadata": {},
   "source": [
    "<img src=\"img/SVM_4.jpg\" width=\"600\">"
   ]
  },
  {
   "cell_type": "markdown",
   "metadata": {},
   "source": [
    "* La existencia de la optimización de este hiperplano separador puede no existir, para ello se aplicará lo que viene debajo. "
   ]
  },
  {
   "cell_type": "markdown",
   "metadata": {},
   "source": [
    "# Linear Support Vector Classifier\n",
    "\n",
    "* Extendemos el problema del hiperplano separador para poder desarrollar un hiperplano que 'casi' separe las clases, lo que lo llamaremos un **márgen débil**."
   ]
  },
  {
   "cell_type": "markdown",
   "metadata": {},
   "source": [
    "La generalización de ese problema de clasificación máximo, en el caso de no tener información separable se conoce como el problema del **Support Vector Classifier** *(el clasificador de soporte vectorial)*:\n",
    "\n",
    "* Partiremos de una premisa básica: las clases se tendrán sobreponer *(overlapping)* en el espacio dimensional de los rasgos que nos haya dado el dataset."
   ]
  },
  {
   "cell_type": "markdown",
   "metadata": {},
   "source": [
    "<img src=\"img/SVM_clasi_1.jpg\" width=\"600\">"
   ]
  },
  {
   "cell_type": "markdown",
   "metadata": {},
   "source": [
    "* En el dibujo tenemos la información separada pero algún punto azúl cae en la zona roja y vicerversa.\n",
    "* Para ello podemos evitar en la medida de lo posible este overlapping, maximizando *M*. Para ello definimos unas variables adicionales llamadas **soporte vectorial**, que son las $\\psi$, una para cada punto del dataset.\n",
    "* Ahora ya podemos modificar las restricciones haciendo que la suma de las $\\psi$ sean igual o menor que un valor **C** fijado a priori. De esta forma acotamos los errores."
   ]
  },
  {
   "cell_type": "markdown",
   "metadata": {},
   "source": [
    "Tenemos un problema de optimización de una ecuación cuadrática con resticciones linales (polinomios de grado uno), lo que se conoce como un **problema de optimización convexo**. Este tiene solución utilizándo los **multiplicadores de Lagrange**, que tendremos que transformarlo previamente en el **problema dual de Wolfe**.\n",
    "\n",
    "Para ello tomamos la función que queremos minimizar y restarle todas y cada una de las restricciones que aparecen en el problema, de modo que:"
   ]
  },
  {
   "cell_type": "markdown",
   "metadata": {},
   "source": [
    "<img src=\"img/SVM_clasi_2.jpg\" width=\"600\">"
   ]
  },
  {
   "cell_type": "markdown",
   "metadata": {},
   "source": [
    "<img src=\"img/SVM_clasi_3.jpg\" width=\"600\">"
   ]
  },
  {
   "cell_type": "markdown",
   "metadata": {},
   "source": [
    "<img src=\"img/SVM_clasi_3_1.jpg\" width=\"600\">"
   ]
  },
  {
   "cell_type": "code",
   "execution_count": 1,
   "metadata": {},
   "outputs": [],
   "source": [
    "import numpy as np\n",
    "import matplotlib.pyplot as plt\n",
    "from matplotlib import style\n",
    "style.use(\"ggplot\")\n",
    "from sklearn import svm #super vector machine"
   ]
  },
  {
   "cell_type": "code",
   "execution_count": 2,
   "metadata": {},
   "outputs": [],
   "source": [
    "X = [1,5,1.5,8,1,9]\n",
    "Y = [2,8,1.8,8,0.6,11]"
   ]
  },
  {
   "cell_type": "code",
   "execution_count": 3,
   "metadata": {},
   "outputs": [
    {
     "data": {
      "image/png": "[encoded data removed]",
      "text/plain": [
       "<Figure size 432x288 with 1 Axes>"
      ]
     },
     "metadata": {
      "needs_background": "light"
     },
     "output_type": "display_data"
    }
   ],
   "source": [
    "plt.scatter(X,Y)\n",
    "plt.show()"
   ]
  },
  {
   "cell_type": "code",
   "execution_count": 4,
   "metadata": {},
   "outputs": [],
   "source": [
    "data = np.array(list(zip(X,Y)))"
   ]
  },
  {
   "cell_type": "code",
   "execution_count": 5,
   "metadata": {},
   "outputs": [
    {
     "data": {
      "text/plain": [
       "array([[ 1. ,  2. ],\n",
       "       [ 5. ,  8. ],\n",
       "       [ 1.5,  1.8],\n",
       "       [ 8. ,  8. ],\n",
       "       [ 1. ,  0.6],\n",
       "       [ 9. , 11. ]])"
      ]
     },
     "execution_count": 5,
     "metadata": {},
     "output_type": "execute_result"
    }
   ],
   "source": [
    "data"
   ]
  },
  {
   "cell_type": "code",
   "execution_count": 6,
   "metadata": {},
   "outputs": [],
   "source": [
    "#etiquetamos los puntos como 1 o como 0 (algortimo supervisado), puntos de la esquina inferior como 0, el resto 1\n",
    "target = [0, 1, 0, 1, 0, 1] "
   ]
  },
  {
   "cell_type": "code",
   "execution_count": 15,
   "metadata": {},
   "outputs": [
    {
     "data": {
      "text/plain": [
       "SVC(C=1.0, cache_size=200, class_weight=None, coef0=0.0,\n",
       "    decision_function_shape='ovr', degree=3, gamma='auto_deprecated',\n",
       "    kernel='linear', max_iter=-1, probability=False, random_state=None,\n",
       "    shrinking=True, tol=0.001, verbose=False)"
      ]
     },
     "execution_count": 15,
     "metadata": {},
     "output_type": "execute_result"
    }
   ],
   "source": [
    "#creamos el clasificador de elementos. Tipo de separador(Kernel) linal(hiperplano=1 que es una recta)\n",
    "#C es una forma de indicar como de mal queremos que sea la clasificación(ver teoría para ampliar esto)\n",
    "classifier = svm.SVC(kernel=\"linear\", C = 1.0) #ver teoria para los kernel y la C\n",
    "classifier.fit(data, target) #data con variable predictora(o separadadora) target"
   ]
  },
  {
   "cell_type": "markdown",
   "metadata": {},
   "source": [
    "**Una vez la fase de aprendizaje ya está listo(el modelo ha aprendido de nuestros datos). Ahora ya podemos predecir o probar nuevos datos para ver si cae en el grupo de 0 o el de 1**"
   ]
  },
  {
   "cell_type": "code",
   "execution_count": 17,
   "metadata": {},
   "outputs": [
    {
     "name": "stdout",
     "output_type": "stream",
     "text": [
      "[[10.32 12.67]]\n"
     ]
    },
    {
     "data": {
      "text/plain": [
       "array([1])"
      ]
     },
     "execution_count": 17,
     "metadata": {},
     "output_type": "execute_result"
    }
   ],
   "source": [
    "p = np.array([10.32, 12.67]).reshape(1,2) #probamos con el puntos 10.32,12.67, se lo tenemos que dar en el formato dado por reshape, sino no lo pilla bien\n",
    "print(p)\n",
    "classifier.predict(p)"
   ]
  },
  {
   "cell_type": "markdown",
   "metadata": {},
   "source": [
    "* **Vemos que cae en la catergoria 1**"
   ]
  },
  {
   "cell_type": "markdown",
   "metadata": {},
   "source": [
    "### Representaicón gráfica del separador con ggplot"
   ]
  },
  {
   "cell_type": "markdown",
   "metadata": {},
   "source": [
    "* Modelo: w0 . x + w1 . y + e = 0 (w es el peso)\n",
    "* Ecuación del hiperplano en 2D: y = a . x + b "
   ]
  },
  {
   "cell_type": "code",
   "execution_count": 19,
   "metadata": {},
   "outputs": [
    {
     "data": {
      "text/plain": [
       "array([0.1380943 , 0.24462418])"
      ]
     },
     "execution_count": 19,
     "metadata": {},
     "output_type": "execute_result"
    }
   ],
   "source": [
    "#classifier es un array de array, sacamos el array que hay en la posicion 0(que son los pesos para la categoria 0 y la 1)\n",
    "w = classifier.coef_[0] \n",
    "w"
   ]
  },
  {
   "cell_type": "code",
   "execution_count": 10,
   "metadata": {},
   "outputs": [
    {
     "data": {
      "text/plain": [
       "-0.5645161290322581"
      ]
     },
     "execution_count": 10,
     "metadata": {},
     "output_type": "execute_result"
    }
   ],
   "source": [
    "a = -w[0]/w[1] #pendiente de la recta, se calcula así\n",
    "a"
   ]
  },
  {
   "cell_type": "code",
   "execution_count": 11,
   "metadata": {},
   "outputs": [
    {
     "data": {
      "text/plain": [
       "6.734677437813051"
      ]
     },
     "execution_count": 11,
     "metadata": {},
     "output_type": "execute_result"
    }
   ],
   "source": [
    "b = - classifier.intercept_[0]/w[1] #ordenada en el origen de la recta\n",
    "b"
   ]
  },
  {
   "cell_type": "code",
   "execution_count": 20,
   "metadata": {},
   "outputs": [],
   "source": [
    "xx = np.linspace(0,10) #generamos un vector de numeros entre 0 y 10\n",
    "yy = a * xx + b"
   ]
  },
  {
   "cell_type": "code",
   "execution_count": 13,
   "metadata": {},
   "outputs": [
    {
     "data": {
      "text/plain": [
       "[]"
      ]
     },
     "execution_count": 13,
     "metadata": {},
     "output_type": "execute_result"
    },
    {
     "data": {
      "image/png": "[encoded data removed]",
      "text/plain": [
       "<Figure size 432x288 with 1 Axes>"
      ]
     },
     "metadata": {
      "needs_background": "light"
     },
     "output_type": "display_data"
    }
   ],
   "source": [
    "plt.plot(xx, yy, 'k-', label = \"Hiperplano de separación\")\n",
    "plt.scatter(X, Y, c = target)\n",
    "plt.legend()\n",
    "plt.plot()"
   ]
  },
  {
   "cell_type": "code",
   "execution_count": null,
   "metadata": {},
   "outputs": [],
   "source": []
  }
 ],
 "metadata": {
  "kernelspec": {
   "display_name": "Python 3",
   "language": "python",
   "name": "python3"
  },
  "language_info": {
   "codemirror_mode": {
    "name": "ipython",
    "version": 3
   },
   "file_extension": ".py",
   "mimetype": "text/x-python",
   "name": "python",
   "nbconvert_exporter": "python",
   "pygments_lexer": "ipython3",
   "version": "3.7.3"
  }
 },
 "nbformat": 4,
 "nbformat_minor": 2
}
