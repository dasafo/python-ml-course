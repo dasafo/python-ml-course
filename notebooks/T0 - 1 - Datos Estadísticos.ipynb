{
 "cells": [
  {
   "cell_type": "markdown",
   "metadata": {},
   "source": [
    "# Medidas básicas de la estadística descriptiva"
   ]
  },
  {
   "cell_type": "markdown",
   "metadata": {},
   "source": [
    "<img src=\"img/medidas_estidistica_descriptiva.jpg\" width=\"800\">\n"
   ]
  },
  {
   "cell_type": "code",
   "execution_count": 2,
   "metadata": {},
   "outputs": [],
   "source": [
    "import pandas as pd\n",
    "import numpy as np"
   ]
  },
  {
   "cell_type": "markdown",
   "metadata": {},
   "source": [
    "# 1    Medidas de centralización\n",
    "\n",
    "Nos sirve para ver cómo se sitúan los datos. Son la media, mediana , percentiles y moda.\n",
    "\n",
    "**Vamos a generar una lista de números:**"
   ]
  },
  {
   "cell_type": "code",
   "execution_count": 3,
   "metadata": {},
   "outputs": [],
   "source": [
    "# Generar números aleatorios\n",
    "import random\n",
    "random.seed(0)\n",
    "A= (random.sample(range(100000), 60))"
   ]
  },
  {
   "cell_type": "code",
   "execution_count": 4,
   "metadata": {},
   "outputs": [
    {
     "data": {
      "text/plain": [
       "53312.01666666667"
      ]
     },
     "execution_count": 4,
     "metadata": {},
     "output_type": "execute_result"
    }
   ],
   "source": [
    "#Cálculo media\n",
    "mean=np.mean(A)\n",
    "mean"
   ]
  },
  {
   "cell_type": "code",
   "execution_count": 5,
   "metadata": {},
   "outputs": [
    {
     "data": {
      "text/plain": [
       "56016.0"
      ]
     },
     "execution_count": 5,
     "metadata": {},
     "output_type": "execute_result"
    }
   ],
   "source": [
    "#Cálculo mediana\n",
    "np.median(A)"
   ]
  },
  {
   "cell_type": "code",
   "execution_count": 6,
   "metadata": {},
   "outputs": [
    {
     "data": {
      "text/plain": [
       "ModeResult(mode=array([149]), count=array([1]))"
      ]
     },
     "execution_count": 6,
     "metadata": {},
     "output_type": "execute_result"
    }
   ],
   "source": [
    "#Cálculo moda\n",
    "from scipy import stats \n",
    "stats.mode(A)"
   ]
  },
  {
   "cell_type": "code",
   "execution_count": 7,
   "metadata": {},
   "outputs": [
    {
     "data": {
      "text/plain": [
       "32617.75"
      ]
     },
     "execution_count": 7,
     "metadata": {},
     "output_type": "execute_result"
    }
   ],
   "source": [
    "#percencil 100=p1 0=p0, 0.25 1er cuantil 0.75 3er cuantil\n",
    "np.percentile(A, 25) # return 0.25 percentile, e.g 1er cuantil."
   ]
  },
  {
   "cell_type": "markdown",
   "metadata": {},
   "source": [
    "# 2 Medidas de dispersión\n",
    "\n",
    "La varianza y desviación típica, nos indica si los valores se desplazan mucho o poco con respecto\n",
    "de la media.\n",
    "\n",
    "* La **varianza** es como se aleja cada valor de la media. La varianza eleva los valores al cuadrado nos introduce en una nueva dimensión… puede no tener sentido.\n",
    "\n",
    "* La **desviación típica** es la raíz cuadrada de la varianza. Con la desviación típica volvemos a la dimensión original.\n",
    "\n",
    "* El **coeficiente de variación** nos mide la variabilidad relativa entre la desviación típica entre la media."
   ]
  },
  {
   "cell_type": "code",
   "execution_count": 8,
   "metadata": {},
   "outputs": [
    {
     "data": {
      "text/plain": [
       "810711216.7830557"
      ]
     },
     "execution_count": 8,
     "metadata": {},
     "output_type": "execute_result"
    }
   ],
   "source": [
    "#varianza\n",
    "np.var(A)"
   ]
  },
  {
   "cell_type": "code",
   "execution_count": 9,
   "metadata": {},
   "outputs": [
    {
     "data": {
      "text/plain": [
       "28472.991005215023"
      ]
     },
     "execution_count": 9,
     "metadata": {},
     "output_type": "execute_result"
    }
   ],
   "source": [
    "#desviación típica\n",
    "std=np.std(A)\n",
    "std"
   ]
  },
  {
   "cell_type": "code",
   "execution_count": 10,
   "metadata": {},
   "outputs": [
    {
     "data": {
      "text/plain": [
       "53.40820472660482"
      ]
     },
     "execution_count": 10,
     "metadata": {},
     "output_type": "execute_result"
    }
   ],
   "source": [
    "#coeficiente de variacion std/mean*100\n",
    "#variabilidad relativa entre la media y la std, si hay mucha variabilidad será grande el coeficiente.\n",
    "std/mean*100"
   ]
  },
  {
   "cell_type": "markdown",
   "metadata": {},
   "source": [
    "# 3 Medidas de asimetría\n",
    "\n",
    "Momento de orden *r*, respecto a la media. El momento de orden *r* son los momentos de distribución respecto a la media."
   ]
  },
  {
   "cell_type": "code",
   "execution_count": 11,
   "metadata": {},
   "outputs": [],
   "source": [
    "import scipy.stats as sp # para modelos de asimetria\n",
    "from IPython.display import Image # para incluir imagenes local"
   ]
  },
  {
   "cell_type": "markdown",
   "metadata": {},
   "source": [
    "### **Asimetría de Fisher (Sesgo):**\n",
    "\n",
    "<img src=\"img/sesgo.gif\">\n",
    "\n",
    "* Si el coeficiente es **= 0**; Significa que vuestra función es perfectamente simetríca, se distribuye igual, por ejemplo la distribución normal. Raro es que salga cero.\n",
    "\n",
    "* Si el coeficiente es **>0**; Significa que cuánto más positivo es este valor más desplazada está la distribución hacía la izquierda, de modo que tenemos una asimetría positiva, nos queda la media muy por encima de la distribución.\n",
    "\n",
    "* Si el el coeficiente es **<0**; Significa que cuánto más negativo es este valor más desplazado está la distribución hacía la derecha, de modo que tenemos una asimetría negativa, nos queda la media muy por debajo de la distribución."
   ]
  },
  {
   "cell_type": "code",
   "execution_count": 12,
   "metadata": {},
   "outputs": [
    {
     "data": {
      "text/plain": [
       "-0.17284864155126514"
      ]
     },
     "execution_count": 12,
     "metadata": {},
     "output_type": "execute_result"
    }
   ],
   "source": [
    "# 3rd Moment: Asimetría de Fisher\n",
    "Asimetria=sp.skew(A)\n",
    "Asimetria"
   ]
  },
  {
   "cell_type": "markdown",
   "metadata": {},
   "source": [
    "### **Curtosis:**\n",
    "\n",
    "<img src=\"img/curtosis.gif\">\n",
    "\n",
    "* **Mesocúrtica (=0)**:  Distribución perfecta, asemejada a la distribución normal en forma, no en valores. Está compensado tanto el centro como las colas.\n",
    "* **Leptocúrtica (>0)**:  Distribución donde se le concentran mucho los datos en el valor central, y apenas tiene cola.\n",
    "* **Platicúrtica (<0)**:  Distribución donde hay pocos valores que se concentren respecto al valor central (media) y hay muchos que aparecen hacia las colas, se concentran más en los laterales. Existe valor central, pero también hay mucha presencia de colas directamente en la distribución de nuestros datos."
   ]
  },
  {
   "cell_type": "code",
   "execution_count": 13,
   "metadata": {},
   "outputs": [
    {
     "data": {
      "text/plain": [
       "-1.0800693127939995"
      ]
     },
     "execution_count": 13,
     "metadata": {},
     "output_type": "execute_result"
    }
   ],
   "source": [
    "# 4th Moment: Curtosis\n",
    "curtosis=sp.kurtosis(A)\n",
    "curtosis"
   ]
  },
  {
   "cell_type": "markdown",
   "metadata": {},
   "source": [
    "## 4 Histograma"
   ]
  },
  {
   "cell_type": "code",
   "execution_count": 14,
   "metadata": {},
   "outputs": [],
   "source": [
    "import matplotlib.pyplot as plt\n",
    "%matplotlib inline"
   ]
  },
  {
   "cell_type": "code",
   "execution_count": 15,
   "metadata": {},
   "outputs": [
    {
     "data": {
      "text/plain": [
       "(array([5., 7., 2., 6., 6., 6., 8., 6., 6., 8.]),\n",
       " array([  149. , 10068.7, 19988.4, 29908.1, 39827.8, 49747.5, 59667.2,\n",
       "        69586.9, 79506.6, 89426.3, 99346. ]),\n",
       " <a list of 10 Patch objects>)"
      ]
     },
     "execution_count": 15,
     "metadata": {},
     "output_type": "execute_result"
    },
    {
     "data": {
      "image/png": "[encoded data removed]",
      "text/plain": [
       "<Figure size 432x288 with 1 Axes>"
      ]
     },
     "metadata": {
      "needs_background": "light"
     },
     "output_type": "display_data"
    }
   ],
   "source": [
    "plt.hist(A)"
   ]
  },
  {
   "cell_type": "markdown",
   "metadata": {},
   "source": [
    "## Parámetros importantes para la regresión lineal (entre otros)"
   ]
  },
  {
   "cell_type": "markdown",
   "metadata": {},
   "source": [
    "<img src=\"img/errores_lineal.jpg\" width=\"500\">\n",
    "\n",
    "* <font COLOR=\"red\"><b>SST</b></font> = $SSD+SSR = SSE+SSR$. \n",
    "* <font COLOR=\"red\"><b>SST</b></font> = $\\sum_{i=1}^{n}(y_{i}-\\bar y)^2$. **Suma de los cuadrados totales**. Distancia respecto al promedio. Es la distancia entre los puntos rojos y la recta verde(el promedio).\n",
    "* <font COLOR=\"red\"><b>SSD</b> ó <b>SSE</b></font> = $\\sum_{i=1}^{n}(y_{i}-\\hat y_{i})^2$. **Suma de los cuadrados de las diferencias** ó **Sum of Squares Error(residual)**. Es la diferencia entre los datos originales y las predicciones que el modelo no es capaz de explicar (errores que deberían seguir una distribución normal). Distancia entre los puntos rojos(datos obtenidos) y la recta azul(el modelo)\n",
    "* <font COLOR=\"red\"><b>SSR</b></font> = $\\sum_{i=1}^{n}(\\hat y-\\bar y)^2$. **Suma de los cuadrados de la regresión**. Diferencia entre la recta de regresión y la recta promedio que el modelo busca explicar. Distancia entre la recta verde y la azúl en un punto rojo dado.\n",
    "* <font COLOR=\"red\"><b>MSE</b></font> = $\\frac{SSE}{n-p-1}=\\frac{1}{n-p-1} \\sum_{i=1}^{n}(y_{i}-\\hat y_{i})^2$. **Mean Square Error**.\n",
    "* <font COLOR=\"red\"><b>MSR</b></font> = $\\frac{SSR}{p}=\\frac{1}{p} \\sum_{i=1}^{n}(\\hat y-\\bar y)^2$. **Mean Square Regression**.\n",
    "* <font COLOR=\"red\"><b>RSE</b> ó <b>RMSE</b></font> = $\\sqrt{MSE} = \\sqrt \\frac{SSE}{n-p-1}$. **Error Standard Residual** ó **Root Mean Square Error**.\n",
    "* <font COLOR=\"red\"><b>F</b></font> = $\\frac{MSR}{MSE}$. **F-estadístico**.\n",
    "* <font COLOR=\"red\"><b>$R^2$</b></font> = $\\frac{SSR}{SST}=1-\\frac{SSE}{SST}$. **Coeficiente de determinación** *(entre 0 y 1)*. \n",
    "\n",
    "Con <font COLOR=\"magenta\"><b>$y_i$</b></font> el valor predicho e <font COLOR=\"magenta\"><b>$\\hat y_i = y_i(x)$</b></font> el valor real. <font COLOR=\"magenta\"><b>$p$</b></font> el numero de variables independientes.\n",
    "\n",
    "Lo que nos interesa es: **SSD** sea pequeña (menos distancia habrá entre nuestros valores y el modelo) y que **SSR** se acerque lo máximo posible a **SST**, por ello se define **$R^2$** y cuanto más cerca esté de 1 mejor será el modelo."
   ]
  },
  {
   "cell_type": "code",
   "execution_count": null,
   "metadata": {},
   "outputs": [],
   "source": []
  }
 ],
 "metadata": {
  "kernelspec": {
   "display_name": "Python 3",
   "language": "python",
   "name": "python3"
  },
  "language_info": {
   "codemirror_mode": {
    "name": "ipython",
    "version": 3
   },
   "file_extension": ".py",
   "mimetype": "text/x-python",
   "name": "python",
   "nbconvert_exporter": "python",
   "pygments_lexer": "ipython3",
   "version": "3.7.6"
  }
 },
 "nbformat": 4,
 "nbformat_minor": 2
}
